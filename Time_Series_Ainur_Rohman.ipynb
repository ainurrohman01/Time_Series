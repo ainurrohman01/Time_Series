{
  "nbformat": 4,
  "nbformat_minor": 0,
  "metadata": {
    "colab": {
      "name": "Submission_Time_Series_Ainur_Rohman.ipynb",
      "provenance": [],
      "collapsed_sections": []
    },
    "kernelspec": {
      "name": "python3",
      "display_name": "Python 3"
    },
    "language_info": {
      "name": "python"
    }
  },
  "cells": [
    {
      "cell_type": "markdown",
      "metadata": {
        "id": "SuoQWfWnoZXL"
      },
      "source": [
        "Nama  : Ainur Rohman\n",
        "\n",
        "Email : ainur.solver@gmail.com"
      ]
    },
    {
      "cell_type": "markdown",
      "metadata": {
        "id": "3ccSVNn1obfB"
      },
      "source": [
        "# Data Collecting"
      ]
    },
    {
      "cell_type": "code",
      "metadata": {
        "id": "El6PbwGXnmDS"
      },
      "source": [
        "# Menginstall kaggle : Berfungsi memudahkan dalam mengorganisi package dataset dari kaggle\n",
        "!pip install -q kaggle"
      ],
      "execution_count": 1,
      "outputs": []
    },
    {
      "cell_type": "code",
      "metadata": {
        "colab": {
          "resources": {
            "http://localhost:8080/nbextensions/google.colab/files.js": {
              "data": "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",
              "ok": true,
              "headers": [
                [
                  "content-type",
                  "application/javascript"
                ]
              ],
              "status": 200,
              "status_text": "OK"
            }
          },
          "base_uri": "https://localhost:8080/",
          "height": 95
        },
        "id": "04CHPW2tojnR",
        "outputId": "be9ee637-4057-44fd-8505-bac14c60d080"
      },
      "source": [
        "# Code ini berfungsi untuk mengupload API kaggle.json\n",
        "from google.colab import files\n",
        "files.upload()"
      ],
      "execution_count": 2,
      "outputs": [
        {
          "output_type": "display_data",
          "data": {
            "text/html": [
              "\n",
              "     <input type=\"file\" id=\"files-f24cfd30-3c7f-4d97-932a-221517da4100\" name=\"files[]\" multiple disabled\n",
              "        style=\"border:none\" />\n",
              "     <output id=\"result-f24cfd30-3c7f-4d97-932a-221517da4100\">\n",
              "      Upload widget is only available when the cell has been executed in the\n",
              "      current browser session. Please rerun this cell to enable.\n",
              "      </output>\n",
              "      <script src=\"/nbextensions/google.colab/files.js\"></script> "
            ],
            "text/plain": [
              "<IPython.core.display.HTML object>"
            ]
          },
          "metadata": {
            "tags": []
          }
        },
        {
          "output_type": "stream",
          "text": [
            "Saving kaggle.json to kaggle.json\n"
          ],
          "name": "stdout"
        },
        {
          "output_type": "execute_result",
          "data": {
            "text/plain": [
              "{'kaggle.json': b'{\"username\":\"ainurrohman\",\"key\":\"4fb0f5551dc0f7d0b214aeb6b2fc9515\"}'}"
            ]
          },
          "metadata": {
            "tags": []
          },
          "execution_count": 2
        }
      ]
    },
    {
      "cell_type": "code",
      "metadata": {
        "id": "KUVrw4ieom8P"
      },
      "source": [
        "! mkdir -p ~/.kaggle              # Membuat direktori kaggle\n",
        "! cp kaggle.json ~/.kaggle/\n",
        "! chmod 600 ~/.kaggle/kaggle.json # Untuk memberikan akses terbatas"
      ],
      "execution_count": 3,
      "outputs": []
    },
    {
      "cell_type": "code",
      "metadata": {
        "colab": {
          "base_uri": "https://localhost:8080/"
        },
        "id": "RPPG7cRgopQJ",
        "outputId": "6574c43b-3499-487c-a194-ddd4ed155f0e"
      },
      "source": [
        "! kaggle --version"
      ],
      "execution_count": 4,
      "outputs": [
        {
          "output_type": "stream",
          "text": [
            "Kaggle API 1.5.4\n"
          ],
          "name": "stdout"
        }
      ]
    },
    {
      "cell_type": "code",
      "metadata": {
        "colab": {
          "base_uri": "https://localhost:8080/"
        },
        "id": "4-Tvg0cMowpE",
        "outputId": "25b29db7-a6e9-4ce2-e32f-d085a0c010e3"
      },
      "source": [
        "# Mendownload dataset  \"cuaca kota delhi\"\n",
        "!kaggle datasets download -d mahirkukreja/delhi-weather-data"
      ],
      "execution_count": 5,
      "outputs": [
        {
          "output_type": "stream",
          "text": [
            "Downloading delhi-weather-data.zip to /content\n",
            "\r  0% 0.00/1.00M [00:00<?, ?B/s]\n",
            "\r100% 1.00M/1.00M [00:00<00:00, 67.3MB/s]\n"
          ],
          "name": "stdout"
        }
      ]
    },
    {
      "cell_type": "code",
      "metadata": {
        "id": "Qrs8MYt7pWDB"
      },
      "source": [
        "# Membuat direktori bbc news\n",
        "!mkdir delhi-weather-data"
      ],
      "execution_count": 6,
      "outputs": []
    },
    {
      "cell_type": "code",
      "metadata": {
        "colab": {
          "base_uri": "https://localhost:8080/"
        },
        "id": "e6HPneKlpmj7",
        "outputId": "21ed20e1-ed7c-4428-9f7d-1d1acd83294f"
      },
      "source": [
        "# Mengekstrak fil zip\n",
        "!unzip delhi-weather-data.zip -d delhi-weather-data\n",
        "!ls delhi-weather-data"
      ],
      "execution_count": 7,
      "outputs": [
        {
          "output_type": "stream",
          "text": [
            "Archive:  delhi-weather-data.zip\n",
            "  inflating: delhi-weather-data/testset.csv  \n",
            "testset.csv\n"
          ],
          "name": "stdout"
        }
      ]
    },
    {
      "cell_type": "markdown",
      "metadata": {
        "id": "Y0LS5ouopvHD"
      },
      "source": [
        "# Data Preprocessing"
      ]
    },
    {
      "cell_type": "code",
      "metadata": {
        "id": "ryV2y2YBwhd0"
      },
      "source": [
        "# Import library yang digunakan\n",
        "\n",
        "import pandas as pd\n",
        "import numpy as np\n",
        "import matplotlib.pyplot as plt\n",
        "from sklearn.model_selection import train_test_split\n",
        "from sklearn.preprocessing import MinMaxScaler\n",
        "from keras.models import Sequential\n",
        "from keras.layers import Dense, LSTM\n",
        "import tensorflow as tf"
      ],
      "execution_count": 8,
      "outputs": []
    },
    {
      "cell_type": "markdown",
      "metadata": {
        "id": "xCBgqI0Wp3bq"
      },
      "source": [
        "## Membaca Dataset hasil unzip\n",
        "\n",
        "## Processing menggunakan library pandas"
      ]
    },
    {
      "cell_type": "code",
      "metadata": {
        "id": "A5yY4HdWp5GB"
      },
      "source": [
        "# Memuat dataset\n",
        "\n",
        "data_weather = pd.read_csv('delhi-weather-data/testset.csv')"
      ],
      "execution_count": 9,
      "outputs": []
    },
    {
      "cell_type": "code",
      "metadata": {
        "colab": {
          "base_uri": "https://localhost:8080/",
          "height": 226
        },
        "id": "D-Y5QM_3yGFR",
        "outputId": "38c42448-fac2-4b85-d991-dca72deb7f0e"
      },
      "source": [
        "# Menampilkan 5 data teratas\n",
        "\n",
        "data_weather.head()"
      ],
      "execution_count": 10,
      "outputs": [
        {
          "output_type": "execute_result",
          "data": {
            "text/html": [
              "<div>\n",
              "<style scoped>\n",
              "    .dataframe tbody tr th:only-of-type {\n",
              "        vertical-align: middle;\n",
              "    }\n",
              "\n",
              "    .dataframe tbody tr th {\n",
              "        vertical-align: top;\n",
              "    }\n",
              "\n",
              "    .dataframe thead th {\n",
              "        text-align: right;\n",
              "    }\n",
              "</style>\n",
              "<table border=\"1\" class=\"dataframe\">\n",
              "  <thead>\n",
              "    <tr style=\"text-align: right;\">\n",
              "      <th></th>\n",
              "      <th>datetime_utc</th>\n",
              "      <th>_conds</th>\n",
              "      <th>_dewptm</th>\n",
              "      <th>_fog</th>\n",
              "      <th>_hail</th>\n",
              "      <th>_heatindexm</th>\n",
              "      <th>_hum</th>\n",
              "      <th>_precipm</th>\n",
              "      <th>_pressurem</th>\n",
              "      <th>_rain</th>\n",
              "      <th>_snow</th>\n",
              "      <th>_tempm</th>\n",
              "      <th>_thunder</th>\n",
              "      <th>_tornado</th>\n",
              "      <th>_vism</th>\n",
              "      <th>_wdird</th>\n",
              "      <th>_wdire</th>\n",
              "      <th>_wgustm</th>\n",
              "      <th>_windchillm</th>\n",
              "      <th>_wspdm</th>\n",
              "    </tr>\n",
              "  </thead>\n",
              "  <tbody>\n",
              "    <tr>\n",
              "      <th>0</th>\n",
              "      <td>19961101-11:00</td>\n",
              "      <td>Smoke</td>\n",
              "      <td>9.0</td>\n",
              "      <td>0</td>\n",
              "      <td>0</td>\n",
              "      <td>NaN</td>\n",
              "      <td>27.0</td>\n",
              "      <td>NaN</td>\n",
              "      <td>1010.0</td>\n",
              "      <td>0</td>\n",
              "      <td>0</td>\n",
              "      <td>30.0</td>\n",
              "      <td>0</td>\n",
              "      <td>0</td>\n",
              "      <td>5.0</td>\n",
              "      <td>280.0</td>\n",
              "      <td>West</td>\n",
              "      <td>NaN</td>\n",
              "      <td>NaN</td>\n",
              "      <td>7.4</td>\n",
              "    </tr>\n",
              "    <tr>\n",
              "      <th>1</th>\n",
              "      <td>19961101-12:00</td>\n",
              "      <td>Smoke</td>\n",
              "      <td>10.0</td>\n",
              "      <td>0</td>\n",
              "      <td>0</td>\n",
              "      <td>NaN</td>\n",
              "      <td>32.0</td>\n",
              "      <td>NaN</td>\n",
              "      <td>-9999.0</td>\n",
              "      <td>0</td>\n",
              "      <td>0</td>\n",
              "      <td>28.0</td>\n",
              "      <td>0</td>\n",
              "      <td>0</td>\n",
              "      <td>NaN</td>\n",
              "      <td>0.0</td>\n",
              "      <td>North</td>\n",
              "      <td>NaN</td>\n",
              "      <td>NaN</td>\n",
              "      <td>NaN</td>\n",
              "    </tr>\n",
              "    <tr>\n",
              "      <th>2</th>\n",
              "      <td>19961101-13:00</td>\n",
              "      <td>Smoke</td>\n",
              "      <td>11.0</td>\n",
              "      <td>0</td>\n",
              "      <td>0</td>\n",
              "      <td>NaN</td>\n",
              "      <td>44.0</td>\n",
              "      <td>NaN</td>\n",
              "      <td>-9999.0</td>\n",
              "      <td>0</td>\n",
              "      <td>0</td>\n",
              "      <td>24.0</td>\n",
              "      <td>0</td>\n",
              "      <td>0</td>\n",
              "      <td>NaN</td>\n",
              "      <td>0.0</td>\n",
              "      <td>North</td>\n",
              "      <td>NaN</td>\n",
              "      <td>NaN</td>\n",
              "      <td>NaN</td>\n",
              "    </tr>\n",
              "    <tr>\n",
              "      <th>3</th>\n",
              "      <td>19961101-14:00</td>\n",
              "      <td>Smoke</td>\n",
              "      <td>10.0</td>\n",
              "      <td>0</td>\n",
              "      <td>0</td>\n",
              "      <td>NaN</td>\n",
              "      <td>41.0</td>\n",
              "      <td>NaN</td>\n",
              "      <td>1010.0</td>\n",
              "      <td>0</td>\n",
              "      <td>0</td>\n",
              "      <td>24.0</td>\n",
              "      <td>0</td>\n",
              "      <td>0</td>\n",
              "      <td>2.0</td>\n",
              "      <td>0.0</td>\n",
              "      <td>North</td>\n",
              "      <td>NaN</td>\n",
              "      <td>NaN</td>\n",
              "      <td>NaN</td>\n",
              "    </tr>\n",
              "    <tr>\n",
              "      <th>4</th>\n",
              "      <td>19961101-16:00</td>\n",
              "      <td>Smoke</td>\n",
              "      <td>11.0</td>\n",
              "      <td>0</td>\n",
              "      <td>0</td>\n",
              "      <td>NaN</td>\n",
              "      <td>47.0</td>\n",
              "      <td>NaN</td>\n",
              "      <td>1011.0</td>\n",
              "      <td>0</td>\n",
              "      <td>0</td>\n",
              "      <td>23.0</td>\n",
              "      <td>0</td>\n",
              "      <td>0</td>\n",
              "      <td>1.2</td>\n",
              "      <td>0.0</td>\n",
              "      <td>North</td>\n",
              "      <td>NaN</td>\n",
              "      <td>NaN</td>\n",
              "      <td>0.0</td>\n",
              "    </tr>\n",
              "  </tbody>\n",
              "</table>\n",
              "</div>"
            ],
            "text/plain": [
              "     datetime_utc  _conds   _dewptm  ...   _wgustm   _windchillm   _wspdm\n",
              "0  19961101-11:00   Smoke       9.0  ...       NaN           NaN      7.4\n",
              "1  19961101-12:00   Smoke      10.0  ...       NaN           NaN      NaN\n",
              "2  19961101-13:00   Smoke      11.0  ...       NaN           NaN      NaN\n",
              "3  19961101-14:00   Smoke      10.0  ...       NaN           NaN      NaN\n",
              "4  19961101-16:00   Smoke      11.0  ...       NaN           NaN      0.0\n",
              "\n",
              "[5 rows x 20 columns]"
            ]
          },
          "metadata": {
            "tags": []
          },
          "execution_count": 10
        }
      ]
    },
    {
      "cell_type": "code",
      "metadata": {
        "colab": {
          "base_uri": "https://localhost:8080/",
          "height": 226
        },
        "id": "IzLw7HiLyftn",
        "outputId": "edc97094-372a-447a-f354-7b5cb65c6b3f"
      },
      "source": [
        "# Menampilkan 5 data terbawah\n",
        "\n",
        "data_weather.tail()"
      ],
      "execution_count": 11,
      "outputs": [
        {
          "output_type": "execute_result",
          "data": {
            "text/html": [
              "<div>\n",
              "<style scoped>\n",
              "    .dataframe tbody tr th:only-of-type {\n",
              "        vertical-align: middle;\n",
              "    }\n",
              "\n",
              "    .dataframe tbody tr th {\n",
              "        vertical-align: top;\n",
              "    }\n",
              "\n",
              "    .dataframe thead th {\n",
              "        text-align: right;\n",
              "    }\n",
              "</style>\n",
              "<table border=\"1\" class=\"dataframe\">\n",
              "  <thead>\n",
              "    <tr style=\"text-align: right;\">\n",
              "      <th></th>\n",
              "      <th>datetime_utc</th>\n",
              "      <th>_conds</th>\n",
              "      <th>_dewptm</th>\n",
              "      <th>_fog</th>\n",
              "      <th>_hail</th>\n",
              "      <th>_heatindexm</th>\n",
              "      <th>_hum</th>\n",
              "      <th>_precipm</th>\n",
              "      <th>_pressurem</th>\n",
              "      <th>_rain</th>\n",
              "      <th>_snow</th>\n",
              "      <th>_tempm</th>\n",
              "      <th>_thunder</th>\n",
              "      <th>_tornado</th>\n",
              "      <th>_vism</th>\n",
              "      <th>_wdird</th>\n",
              "      <th>_wdire</th>\n",
              "      <th>_wgustm</th>\n",
              "      <th>_windchillm</th>\n",
              "      <th>_wspdm</th>\n",
              "    </tr>\n",
              "  </thead>\n",
              "  <tbody>\n",
              "    <tr>\n",
              "      <th>100985</th>\n",
              "      <td>20170424-06:00</td>\n",
              "      <td>Haze</td>\n",
              "      <td>17.0</td>\n",
              "      <td>0</td>\n",
              "      <td>0</td>\n",
              "      <td>NaN</td>\n",
              "      <td>25.0</td>\n",
              "      <td>NaN</td>\n",
              "      <td>1005.0</td>\n",
              "      <td>0</td>\n",
              "      <td>0</td>\n",
              "      <td>34.0</td>\n",
              "      <td>0</td>\n",
              "      <td>0</td>\n",
              "      <td>4.0</td>\n",
              "      <td>320.0</td>\n",
              "      <td>NW</td>\n",
              "      <td>NaN</td>\n",
              "      <td>NaN</td>\n",
              "      <td>11.1</td>\n",
              "    </tr>\n",
              "    <tr>\n",
              "      <th>100986</th>\n",
              "      <td>20170424-09:00</td>\n",
              "      <td>Haze</td>\n",
              "      <td>14.0</td>\n",
              "      <td>0</td>\n",
              "      <td>0</td>\n",
              "      <td>NaN</td>\n",
              "      <td>16.0</td>\n",
              "      <td>NaN</td>\n",
              "      <td>1003.0</td>\n",
              "      <td>0</td>\n",
              "      <td>0</td>\n",
              "      <td>38.0</td>\n",
              "      <td>0</td>\n",
              "      <td>0</td>\n",
              "      <td>4.0</td>\n",
              "      <td>320.0</td>\n",
              "      <td>NW</td>\n",
              "      <td>NaN</td>\n",
              "      <td>NaN</td>\n",
              "      <td>22.2</td>\n",
              "    </tr>\n",
              "    <tr>\n",
              "      <th>100987</th>\n",
              "      <td>20170424-12:00</td>\n",
              "      <td>Haze</td>\n",
              "      <td>12.0</td>\n",
              "      <td>0</td>\n",
              "      <td>0</td>\n",
              "      <td>NaN</td>\n",
              "      <td>14.0</td>\n",
              "      <td>NaN</td>\n",
              "      <td>1002.0</td>\n",
              "      <td>0</td>\n",
              "      <td>0</td>\n",
              "      <td>36.0</td>\n",
              "      <td>0</td>\n",
              "      <td>0</td>\n",
              "      <td>4.0</td>\n",
              "      <td>270.0</td>\n",
              "      <td>West</td>\n",
              "      <td>NaN</td>\n",
              "      <td>NaN</td>\n",
              "      <td>18.5</td>\n",
              "    </tr>\n",
              "    <tr>\n",
              "      <th>100988</th>\n",
              "      <td>20170424-15:00</td>\n",
              "      <td>Haze</td>\n",
              "      <td>15.0</td>\n",
              "      <td>0</td>\n",
              "      <td>0</td>\n",
              "      <td>NaN</td>\n",
              "      <td>27.0</td>\n",
              "      <td>NaN</td>\n",
              "      <td>1004.0</td>\n",
              "      <td>0</td>\n",
              "      <td>0</td>\n",
              "      <td>32.0</td>\n",
              "      <td>0</td>\n",
              "      <td>0</td>\n",
              "      <td>2.0</td>\n",
              "      <td>320.0</td>\n",
              "      <td>NW</td>\n",
              "      <td>NaN</td>\n",
              "      <td>NaN</td>\n",
              "      <td>3.7</td>\n",
              "    </tr>\n",
              "    <tr>\n",
              "      <th>100989</th>\n",
              "      <td>20170424-18:00</td>\n",
              "      <td>Haze</td>\n",
              "      <td>15.0</td>\n",
              "      <td>0</td>\n",
              "      <td>0</td>\n",
              "      <td>NaN</td>\n",
              "      <td>30.0</td>\n",
              "      <td>NaN</td>\n",
              "      <td>1005.0</td>\n",
              "      <td>0</td>\n",
              "      <td>0</td>\n",
              "      <td>30.0</td>\n",
              "      <td>0</td>\n",
              "      <td>0</td>\n",
              "      <td>2.0</td>\n",
              "      <td>320.0</td>\n",
              "      <td>NW</td>\n",
              "      <td>NaN</td>\n",
              "      <td>NaN</td>\n",
              "      <td>3.7</td>\n",
              "    </tr>\n",
              "  </tbody>\n",
              "</table>\n",
              "</div>"
            ],
            "text/plain": [
              "          datetime_utc  _conds   _dewptm  ...   _wgustm   _windchillm   _wspdm\n",
              "100985  20170424-06:00    Haze      17.0  ...       NaN           NaN     11.1\n",
              "100986  20170424-09:00    Haze      14.0  ...       NaN           NaN     22.2\n",
              "100987  20170424-12:00    Haze      12.0  ...       NaN           NaN     18.5\n",
              "100988  20170424-15:00    Haze      15.0  ...       NaN           NaN      3.7\n",
              "100989  20170424-18:00    Haze      15.0  ...       NaN           NaN      3.7\n",
              "\n",
              "[5 rows x 20 columns]"
            ]
          },
          "metadata": {
            "tags": []
          },
          "execution_count": 11
        }
      ]
    },
    {
      "cell_type": "code",
      "metadata": {
        "colab": {
          "base_uri": "https://localhost:8080/"
        },
        "id": "qoLF-klsy7TY",
        "outputId": "9e8ce380-2a19-461d-cbf1-1e7db27970be"
      },
      "source": [
        "# Mengecek tipe data apa saja yang terdapat dalam dataset\n",
        "\n",
        "data_weather.info()"
      ],
      "execution_count": 12,
      "outputs": [
        {
          "output_type": "stream",
          "text": [
            "<class 'pandas.core.frame.DataFrame'>\n",
            "RangeIndex: 100990 entries, 0 to 100989\n",
            "Data columns (total 20 columns):\n",
            " #   Column        Non-Null Count   Dtype  \n",
            "---  ------        --------------   -----  \n",
            " 0   datetime_utc  100990 non-null  object \n",
            " 1    _conds       100918 non-null  object \n",
            " 2    _dewptm      100369 non-null  float64\n",
            " 3    _fog         100990 non-null  int64  \n",
            " 4    _hail        100990 non-null  int64  \n",
            " 5    _heatindexm  29155 non-null   float64\n",
            " 6    _hum         100233 non-null  float64\n",
            " 7    _precipm     0 non-null       float64\n",
            " 8    _pressurem   100758 non-null  float64\n",
            " 9    _rain        100990 non-null  int64  \n",
            " 10   _snow        100990 non-null  int64  \n",
            " 11   _tempm       100317 non-null  float64\n",
            " 12   _thunder     100990 non-null  int64  \n",
            " 13   _tornado     100990 non-null  int64  \n",
            " 14   _vism        96562 non-null   float64\n",
            " 15   _wdird       86235 non-null   float64\n",
            " 16   _wdire       86235 non-null   object \n",
            " 17   _wgustm      1072 non-null    float64\n",
            " 18   _windchillm  579 non-null     float64\n",
            " 19   _wspdm       98632 non-null   float64\n",
            "dtypes: float64(11), int64(6), object(3)\n",
            "memory usage: 15.4+ MB\n"
          ],
          "name": "stdout"
        }
      ]
    },
    {
      "cell_type": "markdown",
      "metadata": {
        "id": "V9SfvBrozPC7"
      },
      "source": [
        "## Menghitung jumlah/total banyaknya sample pada dataset"
      ]
    },
    {
      "cell_type": "code",
      "metadata": {
        "colab": {
          "base_uri": "https://localhost:8080/"
        },
        "id": "4z8_ly8QzV6i",
        "outputId": "d489519f-11f1-4fb5-9c34-2e2a522cd28d"
      },
      "source": [
        "data_weather.info"
      ],
      "execution_count": 13,
      "outputs": [
        {
          "output_type": "execute_result",
          "data": {
            "text/plain": [
              "<bound method DataFrame.info of           datetime_utc  _conds   _dewptm  ...   _wgustm   _windchillm   _wspdm\n",
              "0       19961101-11:00   Smoke       9.0  ...       NaN           NaN      7.4\n",
              "1       19961101-12:00   Smoke      10.0  ...       NaN           NaN      NaN\n",
              "2       19961101-13:00   Smoke      11.0  ...       NaN           NaN      NaN\n",
              "3       19961101-14:00   Smoke      10.0  ...       NaN           NaN      NaN\n",
              "4       19961101-16:00   Smoke      11.0  ...       NaN           NaN      0.0\n",
              "...                ...     ...       ...  ...       ...           ...      ...\n",
              "100985  20170424-06:00    Haze      17.0  ...       NaN           NaN     11.1\n",
              "100986  20170424-09:00    Haze      14.0  ...       NaN           NaN     22.2\n",
              "100987  20170424-12:00    Haze      12.0  ...       NaN           NaN     18.5\n",
              "100988  20170424-15:00    Haze      15.0  ...       NaN           NaN      3.7\n",
              "100989  20170424-18:00    Haze      15.0  ...       NaN           NaN      3.7\n",
              "\n",
              "[100990 rows x 20 columns]>"
            ]
          },
          "metadata": {
            "tags": []
          },
          "execution_count": 13
        }
      ]
    },
    {
      "cell_type": "markdown",
      "metadata": {
        "id": "jm6PtmOtqEsI"
      },
      "source": [
        "**Dataset yang digunakan memiliki 100990 sample**"
      ]
    },
    {
      "cell_type": "code",
      "metadata": {
        "colab": {
          "base_uri": "https://localhost:8080/"
        },
        "id": "gqawUTl9zknq",
        "outputId": "81a1d3bc-709f-4c37-b532-bed5f374c7e5"
      },
      "source": [
        "# Untuk mengecek data null\n",
        "data_weather.isnull().sum()"
      ],
      "execution_count": 14,
      "outputs": [
        {
          "output_type": "execute_result",
          "data": {
            "text/plain": [
              "datetime_utc         0\n",
              " _conds             72\n",
              " _dewptm           621\n",
              " _fog                0\n",
              " _hail               0\n",
              " _heatindexm     71835\n",
              " _hum              757\n",
              " _precipm       100990\n",
              " _pressurem        232\n",
              " _rain               0\n",
              " _snow               0\n",
              " _tempm            673\n",
              " _thunder            0\n",
              " _tornado            0\n",
              " _vism            4428\n",
              " _wdird          14755\n",
              " _wdire          14755\n",
              " _wgustm         99918\n",
              " _windchillm    100411\n",
              " _wspdm           2358\n",
              "dtype: int64"
            ]
          },
          "metadata": {
            "tags": []
          },
          "execution_count": 14
        }
      ]
    },
    {
      "cell_type": "code",
      "metadata": {
        "colab": {
          "base_uri": "https://localhost:8080/",
          "height": 206
        },
        "id": "rWZkqAkfpZUV",
        "outputId": "3c3e5c1b-0feb-4d87-bcf9-093a535cbc2a"
      },
      "source": [
        "data_weather['datetime_utc']=pd.to_datetime(data_weather['datetime_utc'])\n",
        "data_weather['datetime_utc'].head()\n",
        "data_weather[' _tempm'].fillna(data_weather[' _tempm'].mean(), inplace=True)\n",
        "data_weather = data_weather[['datetime_utc',' _tempm' ]]\n",
        "data_weather.head()"
      ],
      "execution_count": 15,
      "outputs": [
        {
          "output_type": "execute_result",
          "data": {
            "text/html": [
              "<div>\n",
              "<style scoped>\n",
              "    .dataframe tbody tr th:only-of-type {\n",
              "        vertical-align: middle;\n",
              "    }\n",
              "\n",
              "    .dataframe tbody tr th {\n",
              "        vertical-align: top;\n",
              "    }\n",
              "\n",
              "    .dataframe thead th {\n",
              "        text-align: right;\n",
              "    }\n",
              "</style>\n",
              "<table border=\"1\" class=\"dataframe\">\n",
              "  <thead>\n",
              "    <tr style=\"text-align: right;\">\n",
              "      <th></th>\n",
              "      <th>datetime_utc</th>\n",
              "      <th>_tempm</th>\n",
              "    </tr>\n",
              "  </thead>\n",
              "  <tbody>\n",
              "    <tr>\n",
              "      <th>0</th>\n",
              "      <td>1996-11-01 11:00:00</td>\n",
              "      <td>30.0</td>\n",
              "    </tr>\n",
              "    <tr>\n",
              "      <th>1</th>\n",
              "      <td>1996-11-01 12:00:00</td>\n",
              "      <td>28.0</td>\n",
              "    </tr>\n",
              "    <tr>\n",
              "      <th>2</th>\n",
              "      <td>1996-11-01 13:00:00</td>\n",
              "      <td>24.0</td>\n",
              "    </tr>\n",
              "    <tr>\n",
              "      <th>3</th>\n",
              "      <td>1996-11-01 14:00:00</td>\n",
              "      <td>24.0</td>\n",
              "    </tr>\n",
              "    <tr>\n",
              "      <th>4</th>\n",
              "      <td>1996-11-01 16:00:00</td>\n",
              "      <td>23.0</td>\n",
              "    </tr>\n",
              "  </tbody>\n",
              "</table>\n",
              "</div>"
            ],
            "text/plain": [
              "         datetime_utc   _tempm\n",
              "0 1996-11-01 11:00:00     30.0\n",
              "1 1996-11-01 12:00:00     28.0\n",
              "2 1996-11-01 13:00:00     24.0\n",
              "3 1996-11-01 14:00:00     24.0\n",
              "4 1996-11-01 16:00:00     23.0"
            ]
          },
          "metadata": {
            "tags": []
          },
          "execution_count": 15
        }
      ]
    },
    {
      "cell_type": "code",
      "metadata": {
        "colab": {
          "base_uri": "https://localhost:8080/"
        },
        "id": "TSdAiISpr57p",
        "outputId": "229cfed4-8792-4098-fe13-b2c75c58fc05"
      },
      "source": [
        "# mengecek informasi baru\n",
        "\n",
        "data_weather.info()"
      ],
      "execution_count": 16,
      "outputs": [
        {
          "output_type": "stream",
          "text": [
            "<class 'pandas.core.frame.DataFrame'>\n",
            "RangeIndex: 100990 entries, 0 to 100989\n",
            "Data columns (total 2 columns):\n",
            " #   Column        Non-Null Count   Dtype         \n",
            "---  ------        --------------   -----         \n",
            " 0   datetime_utc  100990 non-null  datetime64[ns]\n",
            " 1    _tempm       100990 non-null  float64       \n",
            "dtypes: datetime64[ns](1), float64(1)\n",
            "memory usage: 1.5 MB\n"
          ],
          "name": "stdout"
        }
      ]
    },
    {
      "cell_type": "markdown",
      "metadata": {
        "id": "vYrp5b3G5_BF"
      },
      "source": [
        "Mengubah nama variabel"
      ]
    },
    {
      "cell_type": "code",
      "metadata": {
        "id": "DB53xbwv0Cdo"
      },
      "source": [
        "Date = data_weather['datetime_utc'].values\n",
        "Temp  = data_weather[' _tempm'].values"
      ],
      "execution_count": 17,
      "outputs": []
    },
    {
      "cell_type": "markdown",
      "metadata": {
        "id": "ytkEIu4N6L2C"
      },
      "source": [
        "Plotting Data"
      ]
    },
    {
      "cell_type": "code",
      "metadata": {
        "colab": {
          "base_uri": "https://localhost:8080/",
          "height": 352
        },
        "id": "KNT-TYKV6NsE",
        "outputId": "9f8698a2-2048-4b64-b3ea-eaf389498e87"
      },
      "source": [
        "plt.figure(figsize=(15,5))\n",
        "plt.plot(Date, Temp)\n",
        "plt.title('Delhi Weather',\n",
        "              fontsize=15);\n",
        "plt.xlabel('Waktu')\n",
        "plt.ylabel('Suhu')\n",
        "plt.show()"
      ],
      "execution_count": 19,
      "outputs": [
        {
          "output_type": "display_data",
          "data": {
            "image/png": "[encoded data removed]",
            "text/plain": [
              "<Figure size 1080x360 with 1 Axes>"
            ]
          },
          "metadata": {
            "tags": [],
            "needs_background": "light"
          }
        }
      ]
    },
    {
      "cell_type": "markdown",
      "metadata": {
        "id": "TGQOSnmC5VMs"
      },
      "source": [
        "# Membagi dataset sebanyak 20 %"
      ]
    },
    {
      "cell_type": "code",
      "metadata": {
        "colab": {
          "base_uri": "https://localhost:8080/"
        },
        "id": "kmHh09DV4squ",
        "outputId": "7970a138-4546-4c14-9bdf-897c8c65f446"
      },
      "source": [
        "x_train, x_test, y_train, y_test = train_test_split(Temp, Date, test_size = 0.2, random_state = 42)\n",
        "print(len(x_train), len(x_test))"
      ],
      "execution_count": 20,
      "outputs": [
        {
          "output_type": "stream",
          "text": [
            "80792 20198\n"
          ],
          "name": "stdout"
        }
      ]
    },
    {
      "cell_type": "markdown",
      "metadata": {
        "id": "JbKv9YPBygz_"
      },
      "source": [
        "Setelah dilakukan splitting data, diperoleh:\n",
        "\n",
        "Data train = 80792\n",
        "\n",
        "Data test = 20198"
      ]
    },
    {
      "cell_type": "markdown",
      "metadata": {
        "id": "GOydl7vhzzZ-"
      },
      "source": [
        "Melakukan Preprocessing data dengan Min Max Scaller"
      ]
    },
    {
      "cell_type": "code",
      "metadata": {
        "colab": {
          "base_uri": "https://localhost:8080/"
        },
        "id": "UKS2YGKpqzGO",
        "outputId": "5b6194bb-ebd0-4692-c0a3-79367a7b558e"
      },
      "source": [
        "minimum = min(x_train)\n",
        "maximum = max(x_train)\n",
        "print(minimum,maximum)\n",
        "mae = (maximum - minimum) / 10\n",
        "print(mae)"
      ],
      "execution_count": 23,
      "outputs": [
        {
          "output_type": "stream",
          "text": [
            "1.0 90.0\n",
            "8.9\n"
          ],
          "name": "stdout"
        }
      ]
    },
    {
      "cell_type": "markdown",
      "metadata": {
        "id": "GOtHnsDy3xV2"
      },
      "source": [
        "## Mengubah dalam bentuk numpy"
      ]
    },
    {
      "cell_type": "code",
      "metadata": {
        "id": "RAFiYrn62mHz"
      },
      "source": [
        "def windowed_dataset(series, window_size, batch_size, shuffle_buffer):\n",
        "    series = tf.expand_dims(series, axis=-1)\n",
        "    ds = tf.data.Dataset.from_tensor_slices(series)\n",
        "    ds = ds.window(window_size + 1, shift=1, drop_remainder=True)\n",
        "    ds = ds.flat_map(lambda w: w.batch(window_size + 1))\n",
        "    ds = ds.shuffle(shuffle_buffer)\n",
        "    ds = ds.map(lambda w: (w[:-1], w[-1:]))\n",
        "    return ds.batch(batch_size).prefetch(1)"
      ],
      "execution_count": 24,
      "outputs": []
    },
    {
      "cell_type": "code",
      "metadata": {
        "id": "bbq026Qf8b_3"
      },
      "source": [
        "data_x_train = windowed_dataset(x_train, window_size=60, batch_size=100, shuffle_buffer=1000)\n",
        "data_x_test = windowed_dataset(x_test, window_size=60, batch_size=100, shuffle_buffer=1000)"
      ],
      "execution_count": 25,
      "outputs": []
    },
    {
      "cell_type": "markdown",
      "metadata": {
        "id": "9NqOspGu9gC6"
      },
      "source": [
        "# Membuat Arsitektur dengan LSTM dan Menggunakan Model Sequential"
      ]
    },
    {
      "cell_type": "code",
      "metadata": {
        "id": "sdKCxgOs8dzW"
      },
      "source": [
        "model = tf.keras.models.Sequential([\n",
        "  tf.keras.layers.LSTM(60, return_sequences=True),\n",
        "  tf.keras.layers.LSTM(60),\n",
        "  tf.keras.layers.Dense(30, activation=\"relu\"),\n",
        "  tf.keras.layers.Dense(10, activation=\"relu\"),\n",
        "  tf.keras.layers.Dense(1)  \n",
        "])"
      ],
      "execution_count": 26,
      "outputs": []
    },
    {
      "cell_type": "markdown",
      "metadata": {
        "id": "0lmtMrhG-S6L"
      },
      "source": [
        "## Menggunakan Fungsi Callback"
      ]
    },
    {
      "cell_type": "markdown",
      "metadata": {
        "id": "lGc8Wdsj-Uqg"
      },
      "source": [
        "Callback Function berfungsi untuk memberi tahu model kita untuk berhenti ketika telah mencapai akurasi tertentu, sehingga proses pelatihan model menjadi lebih singkat dan untuk efisiensi waktu pelatihan."
      ]
    },
    {
      "cell_type": "code",
      "metadata": {
        "id": "M_5zbQ4Z9YGx"
      },
      "source": [
        "class myCallback(tf.keras.callbacks.Callback):\n",
        "    def on_epoch_end(self, epoch, logs={}):\n",
        "      if(logs.get('mae') < mae):\n",
        "        print(\"\\nMAE sudah < 10 % skala data\")\n",
        "        self.model.stop_training = True\n",
        "callbacks = myCallback()"
      ],
      "execution_count": 28,
      "outputs": []
    },
    {
      "cell_type": "markdown",
      "metadata": {
        "id": "5e0ZEvWyAP5R"
      },
      "source": [
        "#Menggunakan optimizer"
      ]
    },
    {
      "cell_type": "code",
      "metadata": {
        "id": "_bI221mh9W12"
      },
      "source": [
        "optimizer = tf.keras.optimizers.SGD(learning_rate=1.0000e-04, momentum=0.9)\n",
        "\n",
        "model.compile(loss=tf.keras.losses.Huber(),            # Loss function yang dapat dicoba untuk ini adalah Huber yang merupakan salah satu loss function yang umum digunakan pada kasus time series\n",
        "              optimizer=optimizer,\n",
        "              metrics=[\"mae\"])                         # metrik evaluasi dengan mean absolute error (mae)"
      ],
      "execution_count": 29,
      "outputs": []
    },
    {
      "cell_type": "markdown",
      "metadata": {
        "id": "PYCAH1QoAhxq"
      },
      "source": [
        "# Pelatihan"
      ]
    },
    {
      "cell_type": "code",
      "metadata": {
        "colab": {
          "base_uri": "https://localhost:8080/"
        },
        "id": "Fiakyrf8_T6T",
        "outputId": "1cf06250-6926-4199-e0c8-25ea3155c42e"
      },
      "source": [
        "num_epochs=100\n",
        "history = model.fit(data_x_train, callbacks=[callbacks], validation_data=data_x_test, epochs=num_epochs)"
      ],
      "execution_count": 30,
      "outputs": [
        {
          "output_type": "stream",
          "text": [
            "Epoch 1/100\n",
            "808/808 [==============================] - 100s 118ms/step - loss: 15.0065 - mae: 15.4978 - val_loss: 6.4505 - val_mae: 6.9316\n",
            "Epoch 2/100\n",
            "808/808 [==============================] - 94s 116ms/step - loss: 6.3896 - mae: 6.8712 - val_loss: 6.4502 - val_mae: 6.9317\n",
            "\n",
            "MAE sudah < 10 %\n"
          ],
          "name": "stdout"
        }
      ]
    },
    {
      "cell_type": "markdown",
      "metadata": {
        "id": "6gZ_pd4n8Wzb"
      },
      "source": [
        "Waktu pelatihan adalah 2 menit 55 detik dan mae < 10 % skala data"
      ]
    },
    {
      "cell_type": "markdown",
      "metadata": {
        "id": "XQlHfnkvA4QD"
      },
      "source": [
        "# Membuat Plot Grafik Hasil"
      ]
    },
    {
      "cell_type": "code",
      "metadata": {
        "colab": {
          "base_uri": "https://localhost:8080/",
          "height": 573
        },
        "id": "Y7eEQoIW0siG",
        "outputId": "7eed4db4-e447-4902-8f41-08a42f0dec4e"
      },
      "source": [
        "plt.plot(history.history['mae'], 'g')\n",
        "plt.plot(history.history['val_mae'], 'b')\n",
        "plt.title('Plot/Grafik mae')\n",
        "plt.ylabel('MAE')\n",
        "plt.xlabel('Epoch')\n",
        "plt.legend(['Mae Train','Mae Test'], loc='upper right')\n",
        "plt.show()\n",
        "\n",
        "plt.plot(history.history['loss'], 'y')\n",
        "plt.plot(history.history['val_loss'], 'r')\n",
        "plt.title('Plot/Grafik loss')\n",
        "plt.ylabel('Loss')\n",
        "plt.xlabel('Epoch')\n",
        "plt.legend(['Loss Train', 'Loss Test'], loc='upper right')\n",
        "plt.show()"
      ],
      "execution_count": 57,
      "outputs": [
        {
          "output_type": "display_data",
          "data": {
            "image/png": "[encoded data removed]",
            "text/plain": [
              "<Figure size 432x288 with 1 Axes>"
            ]
          },
          "metadata": {
            "tags": [],
            "needs_background": "light"
          }
        },
        {
          "output_type": "display_data",
          "data": {
            "image/png": "[encoded data removed]",
            "text/plain": [
              "<Figure size 432x288 with 1 Axes>"
            ]
          },
          "metadata": {
            "tags": [],
            "needs_background": "light"
          }
        }
      ]
    }
  ]
}